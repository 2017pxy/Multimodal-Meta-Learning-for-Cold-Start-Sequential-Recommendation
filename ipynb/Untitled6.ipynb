{
 "cells": [
  {
   "cell_type": "code",
   "execution_count": null,
   "id": "687efb59-225d-4fa9-aff8-dddd1b6d7d57",
   "metadata": {},
   "outputs": [],
   "source": [
    "import argparse\n",
    "from logging import getLogger\n",
    "from tqdm import tqdm\n",
    "import torch\n",
    "import numpy as np\n",
    "import pandas as pd\n",
    "import pickle\n",
    "\n",
    "from recbole.quick_start import load_data_and_model\n",
    "from recbole.utils import init_logger, get_model, get_trainer, init_seed, set_color\n",
    "from recbole.data import create_dataset\n",
    "from recbole.utils.case_study import full_sort_topk, full_sort_scores\n",
    "\n",
    "import logging\n",
    "from logging import getLogger\n",
    "\n",
    "import torch\n",
    "import pickle\n",
    "\n",
    "from recbole.config import Config\n",
    "from recbole.data import create_dataset, data_preparation, save_split_dataloaders, load_split_dataloaders\n",
    "from recbole.utils import init_logger, get_model, get_trainer, init_seed, set_color\n",
    "\n",
    "import copy\n",
    "from recbole.data.interaction import Interaction, cat_interactions\n",
    "\n",
    "from collections import OrderedDict\n",
    "import os\n",
    "\n",
    "import io\n",
    "import matplotlib.pyplot as plt\n",
    "pd.set_option('display.max_rows', None)"
   ]
  },
  {
   "cell_type": "code",
   "execution_count": null,
   "id": "e8c7a42c-c182-43db-ab1e-4fe2bb058b10",
   "metadata": {},
   "outputs": [],
   "source": [
    "import numpy as np\n",
    "import pandas as pd\n",
    "\n",
    "\n",
    "trans_str = r\"\"\"rate\tR@5\tR@10\tR@20\tM@5\tM@10\tM@20\tN@5\tN@10\tN@20\n",
    "0.4\t0.0916\t0.0947\t0.0967\t0.0747\t0.0751\t0.0752\t0.079\t0.08\t0.0805\n",
    "0.6\t0.107\t0.108\t0.1132\t0.0799\t0.08\t0.0804\t0.0867\t0.087\t0.0884\n",
    "0.8\t0.1132\t0.1255\t0.1307\t0.0819\t0.0836\t0.0839\t0.0898\t0.0937\t0.095\n",
    "1\t0.0916\t0.1255\t0.1574\t0.0585\t0.0631\t0.0654\t0.0666\t0.0777\t0.0858\n",
    "\"\"\"\n",
    "\n",
    "meta_str = r\"\"\"rate\tR@5\tR@10\tR@20\tM@5\tM@10\tM@20\tN@5\tN@10\tN@20\n",
    "0.4\t0.1224\t0.1399\t0.1481\t0.0762\t0.0787\t0.0793\t0.0878\t0.0935\t0.0956\n",
    "0.6\t0.1307\t0.1574\t0.1718\t0.0847\t0.0886\t0.0896\t0.0962\t0.1051\t0.1088\n",
    "0.8\t0.1399\t0.1708\t0.1914\t0.0843\t0.0888\t0.0903\t0.0982\t0.1086\t0.1139\n",
    "1\t0.142\t0.1759\t0.2068\t0.0843\t0.0888\t0.0911\t0.0987\t0.1097\t0.1176\n",
    "\"\"\"\n",
    "\n",
    "\n",
    "if __name__ == '__main__':\n",
    "    with io.StringIO(trans_str) as f:\n",
    "        trans_df = pd.read_csv(f, sep='\\t')\n",
    "    print(trans_df)\n"
   ]
  }
 ],
 "metadata": {
  "kernelspec": {
   "display_name": "Python 3",
   "language": "python",
   "name": "python3"
  },
  "language_info": {
   "codemirror_mode": {
    "name": "ipython",
    "version": 3
   },
   "file_extension": ".py",
   "mimetype": "text/x-python",
   "name": "python",
   "nbconvert_exporter": "python",
   "pygments_lexer": "ipython3",
   "version": "3.6.13"
  }
 },
 "nbformat": 4,
 "nbformat_minor": 5
}
