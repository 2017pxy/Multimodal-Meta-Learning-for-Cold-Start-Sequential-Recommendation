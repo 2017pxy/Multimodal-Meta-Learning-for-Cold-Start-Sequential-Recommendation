{
 "cells": [
  {
   "cell_type": "code",
   "execution_count": 1,
   "id": "d481594f-3f30-4bcd-ac7a-75afae34e14d",
   "metadata": {},
   "outputs": [],
   "source": [
    "import argparse\n",
    "from logging import getLogger\n",
    "from tqdm import tqdm\n",
    "import torch\n",
    "import numpy as np\n",
    "import pandas as pd\n",
    "import pickle\n",
    "\n",
    "from recbole.quick_start import load_data_and_model\n",
    "from recbole.utils import init_logger, get_model, get_trainer, init_seed, set_color\n",
    "from recbole.data import create_dataset\n",
    "from recbole.utils.case_study import full_sort_topk, full_sort_scores\n",
    "\n",
    "import logging\n",
    "from logging import getLogger\n",
    "\n",
    "import torch\n",
    "import pickle\n",
    "\n",
    "from recbole.config import Config\n",
    "from recbole.data import create_dataset, data_preparation, save_split_dataloaders, load_split_dataloaders\n",
    "from recbole.utils import init_logger, get_model, get_trainer, init_seed, set_color\n",
    "\n",
    "import copy\n",
    "from recbole.data.interaction import Interaction, cat_interactions\n",
    "\n",
    "pd.set_option('display.max_rows', None)\n"
   ]
  },
  {
   "cell_type": "code",
   "execution_count": 2,
   "id": "09446e6a-92b2-4eda-b340-073c4753e203",
   "metadata": {
    "tags": []
   },
   "outputs": [
    {
     "name": "stderr",
     "output_type": "stream",
     "text": [
      "26 Dec 21:12    INFO  \n",
      "General Hyper Parameters:\n",
      "gpu_id = 0\n",
      "use_gpu = True\n",
      "seed = 2020\n",
      "state = INFO\n",
      "reproducibility = True\n",
      "data_path = dataset/pretrain\n",
      "checkpoint_dir = saved\n",
      "show_progress = True\n",
      "save_dataset = False\n",
      "dataset_save_path = None\n",
      "save_dataloaders = False\n",
      "dataloaders_save_path = None\n",
      "\n",
      "Training Hyper Parameters:\n",
      "epochs = 300\n",
      "train_batch_size = 2048\n",
      "learner = adam\n",
      "learning_rate = 0.001\n",
      "neg_sampling = {'uniform': 1}\n",
      "eval_step = 1\n",
      "stopping_step = 500\n",
      "clip_grad_norm = None\n",
      "weight_decay = 0.0\n",
      "loss_decimal_place = 4\n",
      "\n",
      "Evaluation Hyper Parameters:\n",
      "eval_args = {'split': {'LS': 'valid_and_test'}, 'order': 'TO', 'mode': 'full', 'group_by': 'user'}\n",
      "repeatable = True\n",
      "metrics = ['Recall', 'MRR', 'NDCG', 'Hit', 'Precision']\n",
      "topk = [10]\n",
      "valid_metric = MRR@10\n",
      "valid_metric_bigger = True\n",
      "eval_batch_size = 4096\n",
      "metric_decimal_place = 4\n",
      "\n",
      "Dataset Hyper Parameters:\n",
      "field_separator = \t\n",
      "seq_separator =  \n",
      "USER_ID_FIELD = user_id\n",
      "ITEM_ID_FIELD = item_id\n",
      "RATING_FIELD = rating\n",
      "TIME_FIELD = exposure_time\n",
      "seq_len = None\n",
      "LABEL_FIELD = label\n",
      "threshold = None\n",
      "NEG_PREFIX = neg_\n",
      "load_col = {'inter': ['user_id', 'item_id', 'exposure_time', 'cityid', 'item_type_recommend']}\n",
      "unload_col = None\n",
      "unused_col = {'inter': ['exposure_time', 'exposure_time_list', 'cityid', 'cityid_list', 'item_type_recommend', 'item_type_recommend_list']}\n",
      "additional_feat_suffix = None\n",
      "rm_dup_inter = None\n",
      "val_interval = {'cityid': ['1', '265', '361']}\n",
      "filter_inter_by_user_or_item = None\n",
      "user_inter_num_interval = None\n",
      "item_inter_num_interval = None\n",
      "alias_of_user_id = None\n",
      "alias_of_item_id = None\n",
      "alias_of_entity_id = None\n",
      "alias_of_relation_id = None\n",
      "preload_weight = None\n",
      "normalize_field = None\n",
      "normalize_all = False\n",
      "ITEM_LIST_LENGTH_FIELD = item_length\n",
      "LIST_SUFFIX = _list\n",
      "MAX_ITEM_LIST_LENGTH = 50\n",
      "POSITION_FIELD = position_id\n",
      "HEAD_ENTITY_ID_FIELD = head_id\n",
      "TAIL_ENTITY_ID_FIELD = tail_id\n",
      "RELATION_ID_FIELD = relation_id\n",
      "ENTITY_ID_FIELD = entity_id\n",
      "benchmark_filename = None\n",
      "LOCATION_FIELD = pos\n",
      "\n",
      "Other Hyper Parameters: \n",
      "n_layers = 2\n",
      "n_heads = 2\n",
      "hidden_size = 64\n",
      "inner_size = 256\n",
      "hidden_dropout_prob = 0.5\n",
      "attn_dropout_prob = 0.5\n",
      "hidden_act = gelu\n",
      "layer_norm_eps = 1e-12\n",
      "initializer_range = 0.02\n",
      "loss_type = BPR\n",
      "MODEL_TYPE = ModelType.SEQUENTIAL\n",
      "task_fields = ['cityid']\n",
      "meta_learning_task = ['1']\n",
      "num_local_update = 2\n",
      "local_learner = adam\n",
      "local_learning_rate = 0.001\n",
      "local_weight_decay = 0.0\n",
      "local_modules = ['item_embedding']\n",
      "meta_epochs = 10\n",
      "hint = from bj\n",
      "MODEL_INPUT_TYPE = InputType.PAIRWISE\n",
      "eval_type = EvaluatorType.RANKING\n",
      "device = cuda\n",
      "train_neg_sample_args = {'strategy': 'by', 'by': 1, 'distribution': 'uniform', 'dynamic': 'none'}\n",
      "eval_neg_sample_args = {'strategy': 'full', 'distribution': 'uniform'}\n",
      "\n",
      "\n",
      "26 Dec 21:16    INFO  pretrain\n",
      "The number of users: 59118\n",
      "Average actions of users: 14.763297057020234\n",
      "The number of items: 127384\n",
      "Average actions of items: 7.3776905400229795\n",
      "The number of inters: 770526\n",
      "The sparsity of the dataset: 99.98976818492022%\n",
      "Remain Fields: ['cityid', 'user_id', 'item_id', 'item_type_recommend', 'exposure_time']\n"
     ]
    }
   ],
   "source": [
    "model_file = 'saved/SASRec-meta-Dec-13-2021_20-30-22.pth'  # beijing\n",
    "\n",
    "checkpoint = torch.load(model_file)\n",
    "config = checkpoint['config']\n",
    "# config.final_config_dict['load_col']['inter'].append('item_type_recommend')\n",
    "# config.final_config_dict['unused_col']['inter'] = ['exposure_time', 'exposure_time_list']\n",
    "# config.final_config_dict['save_dataset'] = True\n",
    "# config.final_config_dict['save_dataloaders'] = True\n",
    "\n",
    "init_seed(config['seed'], config['reproducibility'])\n",
    "init_logger(config)\n",
    "logger = getLogger()\n",
    "logger.info(config)\n",
    "\n",
    "dataset = create_dataset(config)\n",
    "beijing = dataset.token2id('cityid', '1')\n",
    "dataset.inter_feat = dataset.inter_feat[dataset.inter_feat['cityid'] == beijing]\n",
    "logger.info(dataset)\n"
   ]
  },
  {
   "cell_type": "code",
   "execution_count": 3,
   "id": "f950b2a1-1468-4c62-bb8d-fc750030baf3",
   "metadata": {},
   "outputs": [
    {
     "name": "stderr",
     "output_type": "stream",
     "text": [
      "26 Dec 21:20    INFO  [Training]: train_batch_size = [2048] negative sampling: [{'uniform': 1}]\n",
      "26 Dec 21:20    INFO  [Evaluation]: eval_batch_size = [4096] eval_args: [{'split': {'LS': 'valid_and_test'}, 'order': 'TO', 'mode': 'full', 'group_by': 'user'}]\n"
     ]
    }
   ],
   "source": [
    "train_data, valid_data, test_data = data_preparation(config, dataset)\n",
    "\n",
    "init_seed(config['seed'], config['reproducibility'])\n",
    "model = get_model(config['model'])(config, train_data.dataset).to(config['device'])\n",
    "model.load_state_dict(checkpoint['state_dict'])\n",
    "model.load_other_parameter(checkpoint.get('other_parameter'))"
   ]
  },
  {
   "cell_type": "code",
   "execution_count": 4,
   "id": "032c0fca-f81a-4721-92bc-1b3a7300d35d",
   "metadata": {},
   "outputs": [
    {
     "name": "stderr",
     "output_type": "stream",
     "text": [
      "Evaluate   :   0%|                                                            | 0/8 [00:00<?, ?it/s]:   0%|                                   | 0/8 [00:00<?, ?it/s, GPU RAM: 4.04 G/79.35 G]:  12%|███▍                       | 1/8 [00:00<00:01,  3.54it/s, GPU RAM: 4.04 G/79.35 G]:  12%|███▍                       | 1/8 [00:00<00:01,  3.54it/s, GPU RAM: 9.88 G/79.35 G]:  25%|██████▊                    | 2/8 [00:00<00:01,  3.86it/s, GPU RAM: 9.88 G/79.35 G]:  25%|██████▊                    | 2/8 [00:00<00:01,  3.86it/s, GPU RAM: 9.88 G/79.35 G]:  38%|██████████▏                | 3/8 [00:00<00:01,  4.10it/s, GPU RAM: 9.88 G/79.35 G]:  38%|██████████▏                | 3/8 [00:00<00:01,  4.10it/s, GPU RAM: 9.88 G/79.35 G]:  50%|█████████████▌             | 4/8 [00:00<00:00,  4.49it/s, GPU RAM: 9.88 G/79.35 G]:  50%|█████████████▌             | 4/8 [00:00<00:00,  4.49it/s, GPU RAM: 9.88 G/79.35 G]:  62%|████████████████▉          | 5/8 [00:01<00:00,  4.83it/s, GPU RAM: 9.88 G/79.35 G]:  62%|████████████████▉          | 5/8 [00:01<00:00,  4.83it/s, GPU RAM: 9.88 G/79.35 G]:  75%|████████████████████▎      | 6/8 [00:01<00:00,  5.35it/s, GPU RAM: 9.88 G/79.35 G]:  75%|████████████████████▎      | 6/8 [00:01<00:00,  5.35it/s, GPU RAM: 9.88 G/79.35 G]:  88%|███████████████████████▋   | 7/8 [00:01<00:00,  5.69it/s, GPU RAM: 9.88 G/79.35 G]:  88%|███████████████████████▋   | 7/8 [00:01<00:00,  5.69it/s, GPU RAM: 9.88 G/79.35 G]: 100%|███████████████████████████| 8/8 [00:01<00:00,  5.78it/s, GPU RAM: 9.88 G/79.35 G]: 100%|███████████████████████████| 8/8 [00:01<00:00,  5.29it/s, GPU RAM: 9.88 G/79.35 G]\n"
     ]
    },
    {
     "name": "stdout",
     "output_type": "stream",
     "text": [
      "OrderedDict([('recall@10', 0.1253), ('mrr@10', 0.0682), ('ndcg@10', 0.0817), ('hit@10', 0.1253), ('precision@10', 0.0125)])\n"
     ]
    }
   ],
   "source": [
    "trainer = get_trainer(config['MODEL_TYPE'], config['model'])(config, model)\n",
    "test_result = trainer.evaluate(test_data, load_best_model=False, show_progress=config['show_progress'])\n",
    "print(test_result)"
   ]
  },
  {
   "cell_type": "code",
   "execution_count": null,
   "id": "80b743a2-5e45-4118-8818-88371cdfad87",
   "metadata": {},
   "outputs": [],
   "source": []
  },
  {
   "cell_type": "code",
   "execution_count": null,
   "id": "4535e58a-a97a-4c61-a7c5-9a6bd0305883",
   "metadata": {},
   "outputs": [],
   "source": []
  },
  {
   "cell_type": "code",
   "execution_count": 3,
   "id": "8d5c915b-eeb4-43d6-839a-bbd9ec6f51d1",
   "metadata": {},
   "outputs": [
    {
     "name": "stderr",
     "output_type": "stream",
     "text": [
      "Evaluate   :   0%|                                                            | 0/1 [00:00<?, ?it/s]:   0%|                                   | 0/1 [00:00<?, ?it/s, GPU RAM: 1.64 G/79.35 G]: 100%|███████████████████████████| 1/1 [00:00<00:00,  8.77it/s, GPU RAM: 1.64 G/79.35 G]: 100%|███████████████████████████| 1/1 [00:00<00:00,  8.61it/s, GPU RAM: 1.64 G/79.35 G]\n"
     ]
    },
    {
     "name": "stdout",
     "output_type": "stream",
     "text": [
      "OrderedDict([('recall@10', 0.1576), ('mrr@10', 0.0984), ('ndcg@10', 0.1124), ('hit@10', 0.1576), ('precision@10', 0.0158)])\n"
     ]
    }
   ],
   "source": [
    "trainer = get_trainer(config['MODEL_TYPE'], config['model'])(config, model)\n",
    "test_result = trainer.evaluate(test_data, load_best_model=False, show_progress=config['show_progress'])\n",
    "print(test_result)"
   ]
  },
  {
   "cell_type": "code",
   "execution_count": 4,
   "id": "571eb250-3c3f-4215-a4ce-6b4030228a10",
   "metadata": {},
   "outputs": [
    {
     "data": {
      "text/plain": [
       "<recbole.evaluator.collector.DataStruct at 0x7f15557eff98>"
      ]
     },
     "execution_count": 4,
     "metadata": {},
     "output_type": "execute_result"
    }
   ],
   "source": [
    "bj_struct = test_result.struct\n",
    "bj_struct"
   ]
  },
  {
   "cell_type": "code",
   "execution_count": 5,
   "id": "22926704-43b8-4aa9-a22a-70563ec1c2f8",
   "metadata": {},
   "outputs": [
    {
     "name": "stderr",
     "output_type": "stream",
     "text": [
      "Evaluate   :   0%|                                                            | 0/1 [00:00<?, ?it/s]:   0%|                                   | 0/1 [00:00<?, ?it/s, GPU RAM: 2.24 G/79.35 G]: 100%|███████████████████████████| 1/1 [00:00<00:00,  1.72it/s, GPU RAM: 2.24 G/79.35 G]: 100%|███████████████████████████| 1/1 [00:00<00:00,  1.59it/s, GPU RAM: 2.24 G/79.35 G]\n"
     ]
    },
    {
     "name": "stdout",
     "output_type": "stream",
     "text": [
      "OrderedDict([('recall@10', 0.1638), ('mrr@10', 0.0997), ('ndcg@10', 0.1149), ('hit@10', 0.1638), ('precision@10', 0.0164)])\n"
     ]
    }
   ],
   "source": [
    "model_file = 'saved/SASRec-Dec-14-2021_19-53-21.pth'  # shanghai\n",
    "\n",
    "checkpoint = torch.load(model_file)\n",
    "\n",
    "init_seed(config['seed'], config['reproducibility'])\n",
    "model = get_model(config['model'])(config, train_data.dataset).to(config['device'])\n",
    "model.load_state_dict(checkpoint['state_dict'])\n",
    "model.load_other_parameter(checkpoint.get('other_parameter'))\n",
    "\n",
    "trainer = get_trainer(config['MODEL_TYPE'], config['model'])(config, model)\n",
    "test_result = trainer.evaluate(test_data, load_best_model=False, show_progress=config['show_progress'])\n",
    "print(test_result)"
   ]
  },
  {
   "cell_type": "code",
   "execution_count": 6,
   "id": "ff73da85-437d-4cda-a97c-a09ba5c23edd",
   "metadata": {},
   "outputs": [
    {
     "data": {
      "text/plain": [
       "<recbole.evaluator.collector.DataStruct at 0x7f1523f72668>"
      ]
     },
     "execution_count": 6,
     "metadata": {},
     "output_type": "execute_result"
    }
   ],
   "source": [
    "sh_struct = test_result.struct\n",
    "sh_struct"
   ]
  },
  {
   "cell_type": "code",
   "execution_count": 9,
   "id": "672e38c5-16bc-494a-8983-a678ee87718e",
   "metadata": {},
   "outputs": [],
   "source": [
    "bj_topk = bj_struct['rec.topk']"
   ]
  },
  {
   "cell_type": "code",
   "execution_count": 10,
   "id": "c04eb3e6-7d83-43e8-ba84-ec6e7e9a49cf",
   "metadata": {},
   "outputs": [],
   "source": [
    "sh_topk = sh_struct['rec.topk']"
   ]
  },
  {
   "cell_type": "code",
   "execution_count": 17,
   "id": "6c17cb70-d053-4781-ad7f-ee479a955cf5",
   "metadata": {},
   "outputs": [
    {
     "data": {
      "text/plain": [
       "tensor([ 1, 10])"
      ]
     },
     "execution_count": 17,
     "metadata": {},
     "output_type": "execute_result"
    }
   ],
   "source": [
    "bj_topk[0].nonzero().squeeze(-1)"
   ]
  },
  {
   "cell_type": "code",
   "execution_count": 18,
   "id": "ce44b22d-c636-4254-8ce6-20755b60acb4",
   "metadata": {},
   "outputs": [
    {
     "data": {
      "text/plain": [
       "tensor([10])"
      ]
     },
     "execution_count": 18,
     "metadata": {},
     "output_type": "execute_result"
    }
   ],
   "source": [
    "sh_topk[0].nonzero().squeeze(-1)"
   ]
  },
  {
   "cell_type": "code",
   "execution_count": 19,
   "id": "dc27f78f-24d4-44cf-94f7-fc1f82f81f07",
   "metadata": {},
   "outputs": [
    {
     "data": {
      "text/plain": [
       "tensor([[0, 1, 0,  ..., 0, 0, 1],\n",
       "        [0, 0, 0,  ..., 0, 0, 1],\n",
       "        [1, 0, 0,  ..., 0, 0, 1],\n",
       "        ...,\n",
       "        [0, 0, 0,  ..., 0, 0, 1],\n",
       "        [0, 0, 0,  ..., 0, 0, 1],\n",
       "        [0, 0, 0,  ..., 0, 0, 1]])"
      ]
     },
     "execution_count": 19,
     "metadata": {},
     "output_type": "execute_result"
    }
   ],
   "source": [
    "merge_topk = bj_topk.clone()\n",
    "merge_topk"
   ]
  },
  {
   "cell_type": "code",
   "execution_count": 22,
   "id": "077d6219-d8c4-45f8-8bca-2262b0903d3d",
   "metadata": {},
   "outputs": [
    {
     "data": {
      "text/plain": [
       "tensor([[0, 1, 0,  ..., 0, 0, 1],\n",
       "        [0, 0, 0,  ..., 0, 0, 1],\n",
       "        [1, 0, 0,  ..., 0, 0, 1],\n",
       "        ...,\n",
       "        [0, 0, 0,  ..., 0, 0, 1],\n",
       "        [0, 0, 0,  ..., 0, 0, 1],\n",
       "        [0, 0, 0,  ..., 0, 0, 1]])"
      ]
     },
     "execution_count": 22,
     "metadata": {},
     "output_type": "execute_result"
    }
   ],
   "source": [
    "bj_topk"
   ]
  },
  {
   "cell_type": "code",
   "execution_count": 23,
   "id": "75d2d8b9-9107-4c96-af27-c35f3edd40de",
   "metadata": {},
   "outputs": [
    {
     "data": {
      "text/plain": [
       "tensor([[0, 0, 0,  ..., 0, 0, 1],\n",
       "        [0, 0, 0,  ..., 0, 0, 1],\n",
       "        [1, 0, 0,  ..., 0, 0, 1],\n",
       "        ...,\n",
       "        [0, 0, 0,  ..., 0, 0, 1],\n",
       "        [0, 0, 0,  ..., 0, 0, 1],\n",
       "        [0, 0, 0,  ..., 0, 0, 1]])"
      ]
     },
     "execution_count": 23,
     "metadata": {},
     "output_type": "execute_result"
    }
   ],
   "source": [
    "sh_topk"
   ]
  },
  {
   "cell_type": "code",
   "execution_count": 21,
   "id": "90a6b7da-4cbe-46da-8e06-72afb7383415",
   "metadata": {},
   "outputs": [
    {
     "data": {
      "text/plain": [
       "tensor([[0, 1, 0,  ..., 0, 0, 1],\n",
       "        [0, 0, 0,  ..., 0, 0, 1],\n",
       "        [1, 0, 0,  ..., 0, 0, 1],\n",
       "        ...,\n",
       "        [0, 0, 0,  ..., 0, 0, 1],\n",
       "        [0, 0, 0,  ..., 0, 0, 1],\n",
       "        [0, 0, 0,  ..., 0, 0, 1]])"
      ]
     },
     "execution_count": 21,
     "metadata": {},
     "output_type": "execute_result"
    }
   ],
   "source": [
    "for i in range(len(bj_topk)):\n",
    "    bj = bj_topk[i].nonzero().squeeze(-1)[0]\n",
    "    sh = sh_topk[i].nonzero().squeeze(-1)[0]\n",
    "    if bj > sh:\n",
    "        merge_topk[i] = sh_topk[i]\n",
    "merge_topk"
   ]
  },
  {
   "cell_type": "code",
   "execution_count": 25,
   "id": "4207f9d1-a1ba-4b24-92ea-e56552653133",
   "metadata": {},
   "outputs": [],
   "source": [
    "merge_struct = copy.deepcopy(bj_struct)\n",
    "merge_struct.set('rec.topk', merge_topk)"
   ]
  },
  {
   "cell_type": "code",
   "execution_count": 26,
   "id": "7a7b9b15-b068-49c0-b1bf-42c59c966460",
   "metadata": {},
   "outputs": [],
   "source": [
    "merge_result = trainer.evaluator.evaluate(merge_struct)"
   ]
  },
  {
   "cell_type": "code",
   "execution_count": 27,
   "id": "b6f8952e-e7ab-4c18-b75f-71da2f3acd5f",
   "metadata": {},
   "outputs": [
    {
     "data": {
      "text/plain": [
       "OrderedDict([('recall@10', 0.1964),\n",
       "             ('mrr@10', 0.1144),\n",
       "             ('ndcg@10', 0.1338),\n",
       "             ('hit@10', 0.1964),\n",
       "             ('precision@10', 0.0196)])"
      ]
     },
     "execution_count": 27,
     "metadata": {},
     "output_type": "execute_result"
    }
   ],
   "source": [
    "merge_result"
   ]
  },
  {
   "cell_type": "code",
   "execution_count": 29,
   "id": "7b412fa4-cc1c-493a-bf4e-66b4d1a60d37",
   "metadata": {},
   "outputs": [
    {
     "data": {
      "text/plain": [
       "odict_values([0.1964, 0.1144, 0.1338, 0.1964, 0.0196])"
      ]
     },
     "execution_count": 29,
     "metadata": {},
     "output_type": "execute_result"
    }
   ],
   "source": [
    "merge_result.values()"
   ]
  },
  {
   "cell_type": "code",
   "execution_count": 30,
   "id": "f8e8e535-40fb-47bc-9a33-554957603629",
   "metadata": {},
   "outputs": [
    {
     "data": {
      "text/plain": [
       "\u001b[1;35mpretrain\u001b[0m\n",
       "\u001b[1;34mThe number of users\u001b[0m: 5065\n",
       "\u001b[1;34mAverage actions of users\u001b[0m: 1.0\n",
       "\u001b[1;34mThe number of items\u001b[0m: 15476\n",
       "\u001b[1;34mAverage actions of items\u001b[0m: 1.4195833333333334\n",
       "\u001b[1;34mThe number of inters\u001b[0m: 3407\n",
       "\u001b[1;34mThe sparsity of the dataset\u001b[0m: 99.99565355725785%\n",
       "\u001b[1;34mRemain Fields\u001b[0m: ['cityid', 'user_id', 'item_id', 'item_type_recommend', 'exposure_time', 'cityid_list', 'item_id_list', 'item_type_recommend_list', 'exposure_time_list', 'item_length', 'neg_item_id']"
      ]
     },
     "execution_count": 30,
     "metadata": {},
     "output_type": "execute_result"
    }
   ],
   "source": [
    "test_data.dataset"
   ]
  },
  {
   "cell_type": "code",
   "execution_count": 32,
   "id": "7718d0c5-a8bc-47ee-878e-71a9dcddba66",
   "metadata": {},
   "outputs": [
    {
     "data": {
      "text/plain": [
       "\u001b[1;35mpretrain\u001b[0m\n",
       "\u001b[1;34mThe number of users\u001b[0m: 5065\n",
       "\u001b[1;34mAverage actions of users\u001b[0m: 17.380529225908372\n",
       "\u001b[1;34mThe number of items\u001b[0m: 15476\n",
       "\u001b[1;34mAverage actions of items\u001b[0m: 5.687560581583199\n",
       "\u001b[1;34mThe number of inters\u001b[0m: 88015\n",
       "\u001b[1;34mThe sparsity of the dataset\u001b[0m: 99.88771583271183%\n",
       "\u001b[1;34mRemain Fields\u001b[0m: ['cityid', 'user_id', 'item_id', 'item_type_recommend', 'exposure_time']"
      ]
     },
     "execution_count": 32,
     "metadata": {},
     "output_type": "execute_result"
    }
   ],
   "source": [
    "dataset"
   ]
  },
  {
   "cell_type": "code",
   "execution_count": null,
   "id": "e78f4788-db7c-4ae1-aaa7-8da55963a190",
   "metadata": {},
   "outputs": [],
   "source": []
  }
 ],
 "metadata": {
  "kernelspec": {
   "display_name": "Python 3",
   "language": "python",
   "name": "python3"
  },
  "language_info": {
   "codemirror_mode": {
    "name": "ipython",
    "version": 3
   },
   "file_extension": ".py",
   "mimetype": "text/x-python",
   "name": "python",
   "nbconvert_exporter": "python",
   "pygments_lexer": "ipython3",
   "version": "3.6.13"
  }
 },
 "nbformat": 4,
 "nbformat_minor": 5
}
