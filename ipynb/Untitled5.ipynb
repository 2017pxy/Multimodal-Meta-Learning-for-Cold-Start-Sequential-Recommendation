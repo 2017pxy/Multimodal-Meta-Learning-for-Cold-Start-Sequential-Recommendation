{
 "cells": [
  {
   "cell_type": "code",
   "execution_count": 1,
   "id": "8e65e9af-bddf-4b4d-bd06-3dd93e42eba7",
   "metadata": {},
   "outputs": [],
   "source": [
    "import argparse\n",
    "from logging import getLogger\n",
    "from tqdm import tqdm\n",
    "import torch\n",
    "import numpy as np\n",
    "import pandas as pd\n",
    "import pickle\n",
    "\n",
    "from recbole.quick_start import load_data_and_model\n",
    "from recbole.utils import init_logger, get_model, get_trainer, init_seed, set_color\n",
    "from recbole.data import create_dataset\n",
    "from recbole.utils.case_study import full_sort_topk, full_sort_scores\n",
    "\n",
    "import logging\n",
    "from logging import getLogger\n",
    "\n",
    "import torch\n",
    "import pickle\n",
    "\n",
    "from recbole.config import Config\n",
    "from recbole.data import create_dataset, data_preparation, save_split_dataloaders, load_split_dataloaders\n",
    "from recbole.utils import init_logger, get_model, get_trainer, init_seed, set_color\n",
    "\n",
    "import copy\n",
    "from recbole.data.interaction import Interaction, cat_interactions\n",
    "\n",
    "from collections import OrderedDict\n",
    "import os\n",
    "\n",
    "pd.set_option('display.max_rows', None)"
   ]
  },
  {
   "cell_type": "code",
   "execution_count": 41,
   "id": "248a8840-9a6d-477d-86b5-a6741b3777a0",
   "metadata": {},
   "outputs": [],
   "source": [
    "sasrec_log = 'output/lanzhou/0121-exp/up-/down-/SASRec.meta-test.log'\n",
    "sasrecfeat_log = 'output/lanzhou/0121-exp/up-/down-/SASRecFeat.meta-test.log'\n",
    "fusion_log = 'output/lanzhou/0121-exp/up-/down-/fusion-9-1.meta-test.log'"
   ]
  },
  {
   "cell_type": "code",
   "execution_count": 3,
   "id": "863f8d57-106b-4feb-865f-69b3f98570b5",
   "metadata": {},
   "outputs": [],
   "source": [
    "def get_result(log):\n",
    "    with os.popen(f'tail -n 1 {repr(log)}') as f:\n",
    "        content = f.read()\n",
    "    return eval(content.split('test result: ')[1])"
   ]
  },
  {
   "cell_type": "code",
   "execution_count": 42,
   "id": "65259325-3d43-4a75-ad8c-de676966a2fe",
   "metadata": {},
   "outputs": [],
   "source": [
    "sasrec_result = get_result(sasrec_log)\n",
    "sasrecfeat_result = get_result(sasrecfeat_log)\n",
    "fusion_result = get_result(fusion_log)"
   ]
  },
  {
   "cell_type": "code",
   "execution_count": 27,
   "id": "a18e6af4-de50-4753-8057-3e1ac8cededd",
   "metadata": {},
   "outputs": [],
   "source": [
    "tasks = list(sasrec_result.keys())"
   ]
  },
  {
   "cell_type": "code",
   "execution_count": 29,
   "id": "cdddff1d-7b91-4d3d-bdf2-1b2bbd0ad91a",
   "metadata": {},
   "outputs": [],
   "source": [
    "sasrec_answer = [\n",
    "    int(sasrec_result[task]['recall@10'])\n",
    "    for task in tasks\n",
    "]"
   ]
  },
  {
   "cell_type": "code",
   "execution_count": 30,
   "id": "bfeae48f-4aa8-4ff9-ad9a-30d31fa3fc5c",
   "metadata": {},
   "outputs": [],
   "source": [
    "sasrecfeat_answer = [\n",
    "    int(sasrecfeat_result[task]['recall@10'])\n",
    "    for task in tasks\n",
    "]"
   ]
  },
  {
   "cell_type": "code",
   "execution_count": 43,
   "id": "57da8040-a92d-4ccb-a33f-f388c9b3e434",
   "metadata": {},
   "outputs": [],
   "source": [
    "fusion_answer = [\n",
    "    int(fusion_result[task]['recall@10'])\n",
    "    for task in tasks\n",
    "]"
   ]
  },
  {
   "cell_type": "code",
   "execution_count": 44,
   "id": "f0791bf7-8d34-433f-8d9c-a36051546117",
   "metadata": {},
   "outputs": [
    {
     "data": {
      "text/html": [
       "<div>\n",
       "<style scoped>\n",
       "    .dataframe tbody tr th:only-of-type {\n",
       "        vertical-align: middle;\n",
       "    }\n",
       "\n",
       "    .dataframe tbody tr th {\n",
       "        vertical-align: top;\n",
       "    }\n",
       "\n",
       "    .dataframe thead th {\n",
       "        text-align: right;\n",
       "    }\n",
       "</style>\n",
       "<table border=\"1\" class=\"dataframe\">\n",
       "  <thead>\n",
       "    <tr style=\"text-align: right;\">\n",
       "      <th></th>\n",
       "      <th>tasks</th>\n",
       "      <th>SASRec</th>\n",
       "      <th>SASRecFeat</th>\n",
       "      <th>fusion</th>\n",
       "    </tr>\n",
       "  </thead>\n",
       "  <tbody>\n",
       "    <tr>\n",
       "      <th>0</th>\n",
       "      <td>268685745</td>\n",
       "      <td>0</td>\n",
       "      <td>0</td>\n",
       "      <td>0</td>\n",
       "    </tr>\n",
       "    <tr>\n",
       "      <th>1</th>\n",
       "      <td>2366968655</td>\n",
       "      <td>1</td>\n",
       "      <td>0</td>\n",
       "      <td>1</td>\n",
       "    </tr>\n",
       "    <tr>\n",
       "      <th>2</th>\n",
       "      <td>88707795</td>\n",
       "      <td>0</td>\n",
       "      <td>0</td>\n",
       "      <td>0</td>\n",
       "    </tr>\n",
       "    <tr>\n",
       "      <th>3</th>\n",
       "      <td>290734363</td>\n",
       "      <td>0</td>\n",
       "      <td>0</td>\n",
       "      <td>0</td>\n",
       "    </tr>\n",
       "    <tr>\n",
       "      <th>4</th>\n",
       "      <td>630528524</td>\n",
       "      <td>0</td>\n",
       "      <td>0</td>\n",
       "      <td>0</td>\n",
       "    </tr>\n",
       "  </tbody>\n",
       "</table>\n",
       "</div>"
      ],
      "text/plain": [
       "        tasks  SASRec  SASRecFeat  fusion\n",
       "0   268685745       0           0       0\n",
       "1  2366968655       1           0       1\n",
       "2    88707795       0           0       0\n",
       "3   290734363       0           0       0\n",
       "4   630528524       0           0       0"
      ]
     },
     "execution_count": 44,
     "metadata": {},
     "output_type": "execute_result"
    }
   ],
   "source": [
    "df = pd.DataFrame({\n",
    "    'tasks': tasks,\n",
    "    'SASRec': sasrec_answer,\n",
    "    'SASRecFeat': sasrecfeat_answer,\n",
    "    'fusion': fusion_answer,\n",
    "})\n",
    "df.head()"
   ]
  },
  {
   "cell_type": "code",
   "execution_count": 46,
   "id": "c1be1b94-419c-4e6d-a928-1b04dfd2b169",
   "metadata": {
    "tags": []
   },
   "outputs": [
    {
     "data": {
      "text/html": [
       "<div>\n",
       "<style scoped>\n",
       "    .dataframe tbody tr th:only-of-type {\n",
       "        vertical-align: middle;\n",
       "    }\n",
       "\n",
       "    .dataframe tbody tr th {\n",
       "        vertical-align: top;\n",
       "    }\n",
       "\n",
       "    .dataframe thead th {\n",
       "        text-align: right;\n",
       "    }\n",
       "</style>\n",
       "<table border=\"1\" class=\"dataframe\">\n",
       "  <thead>\n",
       "    <tr style=\"text-align: right;\">\n",
       "      <th></th>\n",
       "      <th>tasks</th>\n",
       "      <th>SASRec</th>\n",
       "      <th>SASRecFeat</th>\n",
       "      <th>fusion</th>\n",
       "    </tr>\n",
       "  </thead>\n",
       "  <tbody>\n",
       "    <tr>\n",
       "      <th>1</th>\n",
       "      <td>2366968655</td>\n",
       "      <td>1</td>\n",
       "      <td>0</td>\n",
       "      <td>1</td>\n",
       "    </tr>\n",
       "    <tr>\n",
       "      <th>5</th>\n",
       "      <td>551437851</td>\n",
       "      <td>1</td>\n",
       "      <td>1</td>\n",
       "      <td>1</td>\n",
       "    </tr>\n",
       "    <tr>\n",
       "      <th>9</th>\n",
       "      <td>386772516</td>\n",
       "      <td>1</td>\n",
       "      <td>0</td>\n",
       "      <td>1</td>\n",
       "    </tr>\n",
       "    <tr>\n",
       "      <th>11</th>\n",
       "      <td>166465577</td>\n",
       "      <td>1</td>\n",
       "      <td>1</td>\n",
       "      <td>1</td>\n",
       "    </tr>\n",
       "    <tr>\n",
       "      <th>19</th>\n",
       "      <td>2867495880</td>\n",
       "      <td>1</td>\n",
       "      <td>1</td>\n",
       "      <td>1</td>\n",
       "    </tr>\n",
       "    <tr>\n",
       "      <th>26</th>\n",
       "      <td>2490084176</td>\n",
       "      <td>1</td>\n",
       "      <td>1</td>\n",
       "      <td>1</td>\n",
       "    </tr>\n",
       "    <tr>\n",
       "      <th>37</th>\n",
       "      <td>256641652</td>\n",
       "      <td>1</td>\n",
       "      <td>0</td>\n",
       "      <td>1</td>\n",
       "    </tr>\n",
       "    <tr>\n",
       "      <th>40</th>\n",
       "      <td>2985333025</td>\n",
       "      <td>1</td>\n",
       "      <td>1</td>\n",
       "      <td>1</td>\n",
       "    </tr>\n",
       "    <tr>\n",
       "      <th>50</th>\n",
       "      <td>780308103</td>\n",
       "      <td>1</td>\n",
       "      <td>1</td>\n",
       "      <td>1</td>\n",
       "    </tr>\n",
       "    <tr>\n",
       "      <th>55</th>\n",
       "      <td>927701980</td>\n",
       "      <td>1</td>\n",
       "      <td>0</td>\n",
       "      <td>1</td>\n",
       "    </tr>\n",
       "    <tr>\n",
       "      <th>58</th>\n",
       "      <td>167418522</td>\n",
       "      <td>1</td>\n",
       "      <td>0</td>\n",
       "      <td>1</td>\n",
       "    </tr>\n",
       "    <tr>\n",
       "      <th>69</th>\n",
       "      <td>292664381</td>\n",
       "      <td>1</td>\n",
       "      <td>0</td>\n",
       "      <td>1</td>\n",
       "    </tr>\n",
       "    <tr>\n",
       "      <th>73</th>\n",
       "      <td>211876716</td>\n",
       "      <td>1</td>\n",
       "      <td>0</td>\n",
       "      <td>1</td>\n",
       "    </tr>\n",
       "    <tr>\n",
       "      <th>85</th>\n",
       "      <td>2668464807</td>\n",
       "      <td>1</td>\n",
       "      <td>0</td>\n",
       "      <td>1</td>\n",
       "    </tr>\n",
       "    <tr>\n",
       "      <th>88</th>\n",
       "      <td>278873163</td>\n",
       "      <td>1</td>\n",
       "      <td>0</td>\n",
       "      <td>0</td>\n",
       "    </tr>\n",
       "    <tr>\n",
       "      <th>90</th>\n",
       "      <td>139832754</td>\n",
       "      <td>1</td>\n",
       "      <td>0</td>\n",
       "      <td>1</td>\n",
       "    </tr>\n",
       "    <tr>\n",
       "      <th>94</th>\n",
       "      <td>820181486</td>\n",
       "      <td>1</td>\n",
       "      <td>1</td>\n",
       "      <td>1</td>\n",
       "    </tr>\n",
       "    <tr>\n",
       "      <th>102</th>\n",
       "      <td>249877490</td>\n",
       "      <td>1</td>\n",
       "      <td>0</td>\n",
       "      <td>1</td>\n",
       "    </tr>\n",
       "    <tr>\n",
       "      <th>106</th>\n",
       "      <td>91565151</td>\n",
       "      <td>1</td>\n",
       "      <td>0</td>\n",
       "      <td>1</td>\n",
       "    </tr>\n",
       "    <tr>\n",
       "      <th>108</th>\n",
       "      <td>2569320297</td>\n",
       "      <td>1</td>\n",
       "      <td>0</td>\n",
       "      <td>1</td>\n",
       "    </tr>\n",
       "    <tr>\n",
       "      <th>111</th>\n",
       "      <td>46491251</td>\n",
       "      <td>0</td>\n",
       "      <td>0</td>\n",
       "      <td>1</td>\n",
       "    </tr>\n",
       "    <tr>\n",
       "      <th>118</th>\n",
       "      <td>487976462</td>\n",
       "      <td>1</td>\n",
       "      <td>1</td>\n",
       "      <td>1</td>\n",
       "    </tr>\n",
       "    <tr>\n",
       "      <th>121</th>\n",
       "      <td>249691391</td>\n",
       "      <td>1</td>\n",
       "      <td>1</td>\n",
       "      <td>1</td>\n",
       "    </tr>\n",
       "    <tr>\n",
       "      <th>123</th>\n",
       "      <td>2231529994</td>\n",
       "      <td>1</td>\n",
       "      <td>1</td>\n",
       "      <td>1</td>\n",
       "    </tr>\n",
       "    <tr>\n",
       "      <th>125</th>\n",
       "      <td>1442076471</td>\n",
       "      <td>1</td>\n",
       "      <td>0</td>\n",
       "      <td>1</td>\n",
       "    </tr>\n",
       "    <tr>\n",
       "      <th>127</th>\n",
       "      <td>2441102708</td>\n",
       "      <td>1</td>\n",
       "      <td>0</td>\n",
       "      <td>1</td>\n",
       "    </tr>\n",
       "    <tr>\n",
       "      <th>133</th>\n",
       "      <td>140893686</td>\n",
       "      <td>0</td>\n",
       "      <td>1</td>\n",
       "      <td>0</td>\n",
       "    </tr>\n",
       "    <tr>\n",
       "      <th>146</th>\n",
       "      <td>1864502437</td>\n",
       "      <td>0</td>\n",
       "      <td>1</td>\n",
       "      <td>0</td>\n",
       "    </tr>\n",
       "    <tr>\n",
       "      <th>149</th>\n",
       "      <td>1057213923</td>\n",
       "      <td>1</td>\n",
       "      <td>0</td>\n",
       "      <td>1</td>\n",
       "    </tr>\n",
       "    <tr>\n",
       "      <th>157</th>\n",
       "      <td>6838236</td>\n",
       "      <td>1</td>\n",
       "      <td>1</td>\n",
       "      <td>1</td>\n",
       "    </tr>\n",
       "    <tr>\n",
       "      <th>164</th>\n",
       "      <td>199393873</td>\n",
       "      <td>1</td>\n",
       "      <td>0</td>\n",
       "      <td>1</td>\n",
       "    </tr>\n",
       "    <tr>\n",
       "      <th>165</th>\n",
       "      <td>335067310</td>\n",
       "      <td>1</td>\n",
       "      <td>0</td>\n",
       "      <td>1</td>\n",
       "    </tr>\n",
       "    <tr>\n",
       "      <th>174</th>\n",
       "      <td>1831268537</td>\n",
       "      <td>1</td>\n",
       "      <td>1</td>\n",
       "      <td>1</td>\n",
       "    </tr>\n",
       "    <tr>\n",
       "      <th>177</th>\n",
       "      <td>4129338</td>\n",
       "      <td>1</td>\n",
       "      <td>1</td>\n",
       "      <td>1</td>\n",
       "    </tr>\n",
       "    <tr>\n",
       "      <th>181</th>\n",
       "      <td>2555692091</td>\n",
       "      <td>1</td>\n",
       "      <td>0</td>\n",
       "      <td>0</td>\n",
       "    </tr>\n",
       "    <tr>\n",
       "      <th>187</th>\n",
       "      <td>3204374567</td>\n",
       "      <td>0</td>\n",
       "      <td>1</td>\n",
       "      <td>0</td>\n",
       "    </tr>\n",
       "    <tr>\n",
       "      <th>188</th>\n",
       "      <td>1336558932</td>\n",
       "      <td>0</td>\n",
       "      <td>1</td>\n",
       "      <td>0</td>\n",
       "    </tr>\n",
       "  </tbody>\n",
       "</table>\n",
       "</div>"
      ],
      "text/plain": [
       "          tasks  SASRec  SASRecFeat  fusion\n",
       "1    2366968655       1           0       1\n",
       "5     551437851       1           1       1\n",
       "9     386772516       1           0       1\n",
       "11    166465577       1           1       1\n",
       "19   2867495880       1           1       1\n",
       "26   2490084176       1           1       1\n",
       "37    256641652       1           0       1\n",
       "40   2985333025       1           1       1\n",
       "50    780308103       1           1       1\n",
       "55    927701980       1           0       1\n",
       "58    167418522       1           0       1\n",
       "69    292664381       1           0       1\n",
       "73    211876716       1           0       1\n",
       "85   2668464807       1           0       1\n",
       "88    278873163       1           0       0\n",
       "90    139832754       1           0       1\n",
       "94    820181486       1           1       1\n",
       "102   249877490       1           0       1\n",
       "106    91565151       1           0       1\n",
       "108  2569320297       1           0       1\n",
       "111    46491251       0           0       1\n",
       "118   487976462       1           1       1\n",
       "121   249691391       1           1       1\n",
       "123  2231529994       1           1       1\n",
       "125  1442076471       1           0       1\n",
       "127  2441102708       1           0       1\n",
       "133   140893686       0           1       0\n",
       "146  1864502437       0           1       0\n",
       "149  1057213923       1           0       1\n",
       "157     6838236       1           1       1\n",
       "164   199393873       1           0       1\n",
       "165   335067310       1           0       1\n",
       "174  1831268537       1           1       1\n",
       "177     4129338       1           1       1\n",
       "181  2555692091       1           0       0\n",
       "187  3204374567       0           1       0\n",
       "188  1336558932       0           1       0"
      ]
     },
     "execution_count": 46,
     "metadata": {},
     "output_type": "execute_result"
    }
   ],
   "source": [
    "df[(df['SASRec'] == 1) | (df['SASRecFeat'] == 1) | (df['fusion'] == 1)]"
   ]
  },
  {
   "cell_type": "code",
   "execution_count": null,
   "id": "f3b3e705-dffa-4143-9bc2-ed3108596f36",
   "metadata": {},
   "outputs": [],
   "source": []
  },
  {
   "cell_type": "code",
   "execution_count": 33,
   "id": "11d38d86-05ca-4617-be11-376f29e4bf06",
   "metadata": {},
   "outputs": [],
   "source": [
    "sasrec_mask = (df['SASRec'] == 1)\n",
    "sasrecfeat_mask = (df['SASRecFeat'] == 1)"
   ]
  },
  {
   "cell_type": "code",
   "execution_count": 34,
   "id": "16889c34-157d-4f2f-ae04-3ec0d6e05a77",
   "metadata": {},
   "outputs": [
    {
     "data": {
      "text/plain": [
       "32"
      ]
     },
     "execution_count": 34,
     "metadata": {},
     "output_type": "execute_result"
    }
   ],
   "source": [
    "sasrec_mask.sum()"
   ]
  },
  {
   "cell_type": "code",
   "execution_count": 35,
   "id": "ce1d729a-6bb3-4802-ad5c-fba7274262dc",
   "metadata": {},
   "outputs": [
    {
     "data": {
      "text/plain": [
       "17"
      ]
     },
     "execution_count": 35,
     "metadata": {},
     "output_type": "execute_result"
    }
   ],
   "source": [
    "sasrecfeat_mask.sum()"
   ]
  },
  {
   "cell_type": "code",
   "execution_count": null,
   "id": "93c86d83-bf98-4d8b-ba5c-c1d1b01918cd",
   "metadata": {},
   "outputs": [],
   "source": []
  },
  {
   "cell_type": "code",
   "execution_count": 36,
   "id": "6d167b20-eda4-40a2-85a8-e3958c96b93c",
   "metadata": {},
   "outputs": [
    {
     "data": {
      "text/plain": [
       "4"
      ]
     },
     "execution_count": 36,
     "metadata": {},
     "output_type": "execute_result"
    }
   ],
   "source": [
    "(sasrecfeat_mask & (~sasrec_mask)).sum()"
   ]
  },
  {
   "cell_type": "code",
   "execution_count": 37,
   "id": "2c9108ec-cfba-4ba3-a2fc-76f550dfc414",
   "metadata": {},
   "outputs": [
    {
     "data": {
      "text/plain": [
       "19"
      ]
     },
     "execution_count": 37,
     "metadata": {},
     "output_type": "execute_result"
    }
   ],
   "source": [
    "(sasrec_mask & (~sasrecfeat_mask)).sum()"
   ]
  },
  {
   "cell_type": "code",
   "execution_count": 38,
   "id": "01eb08b9-d1dd-4e67-ab57-153193db02d3",
   "metadata": {},
   "outputs": [
    {
     "data": {
      "text/plain": [
       "13"
      ]
     },
     "execution_count": 38,
     "metadata": {},
     "output_type": "execute_result"
    }
   ],
   "source": [
    "(sasrec_mask & sasrecfeat_mask).sum()"
   ]
  },
  {
   "cell_type": "code",
   "execution_count": 39,
   "id": "f601cb67-2207-4cd0-892d-66db3fab24b0",
   "metadata": {},
   "outputs": [
    {
     "data": {
      "text/plain": [
       "189"
      ]
     },
     "execution_count": 39,
     "metadata": {},
     "output_type": "execute_result"
    }
   ],
   "source": [
    "len(df)"
   ]
  },
  {
   "cell_type": "code",
   "execution_count": 40,
   "id": "7d5136ab-36de-44f0-9112-38a1b8884402",
   "metadata": {},
   "outputs": [
    {
     "data": {
      "text/plain": [
       "0.1693121693121693"
      ]
     },
     "execution_count": 40,
     "metadata": {},
     "output_type": "execute_result"
    }
   ],
   "source": []
  },
  {
   "cell_type": "code",
   "execution_count": null,
   "id": "cde43ee2-3681-47da-9a8b-30fa595aaff9",
   "metadata": {},
   "outputs": [],
   "source": []
  }
 ],
 "metadata": {
  "kernelspec": {
   "display_name": "Python 3",
   "language": "python",
   "name": "python3"
  },
  "language_info": {
   "codemirror_mode": {
    "name": "ipython",
    "version": 3
   },
   "file_extension": ".py",
   "mimetype": "text/x-python",
   "name": "python",
   "nbconvert_exporter": "python",
   "pygments_lexer": "ipython3",
   "version": "3.6.13"
  }
 },
 "nbformat": 4,
 "nbformat_minor": 5
}
