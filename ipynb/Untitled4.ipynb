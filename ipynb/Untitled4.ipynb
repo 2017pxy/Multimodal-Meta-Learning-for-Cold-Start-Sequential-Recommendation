{
 "cells": [
  {
   "cell_type": "code",
   "execution_count": 1,
   "id": "e0a2ebb8-dda6-483a-8ff0-5243cb38cc82",
   "metadata": {},
   "outputs": [],
   "source": [
    "import argparse\n",
    "from logging import getLogger\n",
    "from tqdm import tqdm\n",
    "import torch\n",
    "import numpy as np\n",
    "import pandas as pd\n",
    "import pickle\n",
    "\n",
    "from recbole.quick_start import load_data_and_model\n",
    "from recbole.utils import init_logger, get_model, get_trainer, init_seed, set_color\n",
    "from recbole.data import create_dataset\n",
    "from recbole.utils.case_study import full_sort_topk, full_sort_scores\n",
    "\n",
    "import logging\n",
    "from logging import getLogger\n",
    "\n",
    "import torch\n",
    "import pickle\n",
    "\n",
    "from recbole.config import Config\n",
    "from recbole.data import create_dataset, data_preparation, save_split_dataloaders, load_split_dataloaders\n",
    "from recbole.utils import init_logger, get_model, get_trainer, init_seed, set_color\n",
    "\n",
    "import copy\n",
    "from recbole.data.interaction import Interaction, cat_interactions\n",
    "from collections import OrderedDict\n",
    "\n",
    "pd.set_option('display.max_rows', None)\n"
   ]
  },
  {
   "cell_type": "code",
   "execution_count": 2,
   "id": "5a4c0476-982b-4993-8ca8-bfc88732ec34",
   "metadata": {},
   "outputs": [
    {
     "data": {
      "text/html": [
       "<div>\n",
       "<style scoped>\n",
       "    .dataframe tbody tr th:only-of-type {\n",
       "        vertical-align: middle;\n",
       "    }\n",
       "\n",
       "    .dataframe tbody tr th {\n",
       "        vertical-align: top;\n",
       "    }\n",
       "\n",
       "    .dataframe thead th {\n",
       "        text-align: right;\n",
       "    }\n",
       "</style>\n",
       "<table border=\"1\" class=\"dataframe\">\n",
       "  <thead>\n",
       "    <tr style=\"text-align: right;\">\n",
       "      <th></th>\n",
       "      <th>sessionid:token</th>\n",
       "      <th>cityid:token</th>\n",
       "      <th>user_id:token</th>\n",
       "      <th>item_id:token</th>\n",
       "      <th>item_type_recommend:token</th>\n",
       "      <th>exposure_time:float</th>\n",
       "      <th>inter_type:token</th>\n",
       "      <th>user_loc:float_seq</th>\n",
       "    </tr>\n",
       "  </thead>\n",
       "  <tbody>\n",
       "    <tr>\n",
       "      <th>0</th>\n",
       "      <td>23b17f8d-6c9a-4f80-9a8f-beb6b8ff753d1622217513...</td>\n",
       "      <td>482</td>\n",
       "      <td>1148278752</td>\n",
       "      <td>625526893_DEAL_GROUP</td>\n",
       "      <td>DEAL_GROUP</td>\n",
       "      <td>1622217600</td>\n",
       "      <td>click</td>\n",
       "      <td>98.4845 25.0468</td>\n",
       "    </tr>\n",
       "    <tr>\n",
       "      <th>1</th>\n",
       "      <td>44db1150-c92f-4739-be97-6484484a276b1622215430...</td>\n",
       "      <td>554</td>\n",
       "      <td>3025141532</td>\n",
       "      <td>28142906_DEAL_GROUP</td>\n",
       "      <td>DEAL_GROUP</td>\n",
       "      <td>1622217600</td>\n",
       "      <td>click</td>\n",
       "      <td>119.7374 29.8086</td>\n",
       "    </tr>\n",
       "    <tr>\n",
       "      <th>2</th>\n",
       "      <td>169021b5-a95e-4fd4-b6b9-2e2784458a6d1622217473...</td>\n",
       "      <td>324</td>\n",
       "      <td>871599891</td>\n",
       "      <td>659897130_DEAL_GROUP</td>\n",
       "      <td>DEAL_GROUP</td>\n",
       "      <td>1622217601</td>\n",
       "      <td>click</td>\n",
       "      <td>105.8715 26.2293</td>\n",
       "    </tr>\n",
       "    <tr>\n",
       "      <th>3</th>\n",
       "      <td>5b34a233-9c96-4e33-b46e-0f3f086cac4b1622216948...</td>\n",
       "      <td>432</td>\n",
       "      <td>208173370</td>\n",
       "      <td>693739980_DEAL_GROUP</td>\n",
       "      <td>DEAL_GROUP</td>\n",
       "      <td>1622217601</td>\n",
       "      <td>click</td>\n",
       "      <td>121.1979 31.5911</td>\n",
       "    </tr>\n",
       "    <tr>\n",
       "      <th>4</th>\n",
       "      <td>dc30f9fc-6ccd-45b1-bbba-a04a019afd611622216208...</td>\n",
       "      <td>30</td>\n",
       "      <td>918204676</td>\n",
       "      <td>690308484_DEAL_GROUP</td>\n",
       "      <td>DEAL_GROUP</td>\n",
       "      <td>1622217601</td>\n",
       "      <td>click</td>\n",
       "      <td>114.0401 22.5183</td>\n",
       "    </tr>\n",
       "  </tbody>\n",
       "</table>\n",
       "</div>"
      ],
      "text/plain": [
       "                                     sessionid:token  cityid:token  \\\n",
       "0  23b17f8d-6c9a-4f80-9a8f-beb6b8ff753d1622217513...           482   \n",
       "1  44db1150-c92f-4739-be97-6484484a276b1622215430...           554   \n",
       "2  169021b5-a95e-4fd4-b6b9-2e2784458a6d1622217473...           324   \n",
       "3  5b34a233-9c96-4e33-b46e-0f3f086cac4b1622216948...           432   \n",
       "4  dc30f9fc-6ccd-45b1-bbba-a04a019afd611622216208...            30   \n",
       "\n",
       "   user_id:token         item_id:token item_type_recommend:token  \\\n",
       "0     1148278752  625526893_DEAL_GROUP                DEAL_GROUP   \n",
       "1     3025141532   28142906_DEAL_GROUP                DEAL_GROUP   \n",
       "2      871599891  659897130_DEAL_GROUP                DEAL_GROUP   \n",
       "3      208173370  693739980_DEAL_GROUP                DEAL_GROUP   \n",
       "4      918204676  690308484_DEAL_GROUP                DEAL_GROUP   \n",
       "\n",
       "   exposure_time:float inter_type:token user_loc:float_seq  \n",
       "0           1622217600            click    98.4845 25.0468  \n",
       "1           1622217600            click   119.7374 29.8086  \n",
       "2           1622217601            click   105.8715 26.2293  \n",
       "3           1622217601            click   121.1979 31.5911  \n",
       "4           1622217601            click   114.0401 22.5183  "
      ]
     },
     "execution_count": 2,
     "metadata": {},
     "output_type": "execute_result"
    }
   ],
   "source": [
    "df = pd.read_csv('dataset/pretrain/pretrain.inter', sep='\\t')\n",
    "df.head()"
   ]
  },
  {
   "cell_type": "code",
   "execution_count": 3,
   "id": "ea64ed59-8274-44d7-a9f7-39d28219e2ad",
   "metadata": {},
   "outputs": [],
   "source": [
    "def split_df(df, city_id, ratio=0.8, split_time=None):\n",
    "    city_df = df[df['cityid:token'] == city_id]\n",
    "    user_df = city_df[['user_id:token', 'exposure_time:float']].drop_duplicates('user_id:token', keep='first')\n",
    "    user_df.columns = ['user_id:token', 'first_inter_time:float']\n",
    "    if split_time is None:\n",
    "        time_list = user_df['first_inter_time:float'].values\n",
    "        split_time = time_list[int(len(time_list) * ratio)]\n",
    "    city_df = pd.merge(city_df, user_df, how='left', on='user_id:token')\n",
    "    up_df = city_df[city_df['exposure_time:float'] <= split_time]\n",
    "    down_df = city_df[city_df['first_inter_time:float'] > split_time]\n",
    "    return up_df, down_df"
   ]
  },
  {
   "cell_type": "code",
   "execution_count": 4,
   "id": "3964dc94-707b-4a63-9360-4d5a2058ada1",
   "metadata": {},
   "outputs": [],
   "source": [
    "def filter_by_inter_num(df, user_inter_num):\n",
    "    user_count_df = df[['user_id:token', 'item_id:token']].groupby('user_id:token').count().reset_index()\n",
    "    # print(len(user_count_df))\n",
    "    user_count_df = user_count_df[user_count_df['item_id:token'] >= user_inter_num]\n",
    "    # print(len(user_count_df))\n",
    "    return pd.merge(df, user_count_df[['user_id:token']], on='user_id:token', how='right')"
   ]
  },
  {
   "cell_type": "code",
   "execution_count": 44,
   "id": "826a1253-a191-47db-a4d1-0be2fee1cd1f",
   "metadata": {},
   "outputs": [],
   "source": [
    "# up_df, down_df = split_df(df, 10, ratio=0.8)\n",
    "up_df, down_df = split_df(df, 10, split_time=1631289599)"
   ]
  },
  {
   "cell_type": "code",
   "execution_count": 45,
   "id": "a01ac4d5-b04a-4d8d-97c3-6be7a717d733",
   "metadata": {},
   "outputs": [
    {
     "data": {
      "text/plain": [
       "33114"
      ]
     },
     "execution_count": 45,
     "metadata": {},
     "output_type": "execute_result"
    }
   ],
   "source": [
    "up_df['user_id:token'].nunique()"
   ]
  },
  {
   "cell_type": "code",
   "execution_count": 46,
   "id": "abbb9964-f221-4a44-bd2c-deeca05ec625",
   "metadata": {},
   "outputs": [
    {
     "data": {
      "text/plain": [
       "5290"
      ]
     },
     "execution_count": 46,
     "metadata": {},
     "output_type": "execute_result"
    }
   ],
   "source": [
    "down_df['user_id:token'].nunique()"
   ]
  },
  {
   "cell_type": "code",
   "execution_count": 47,
   "id": "0cee86d9-1e00-44eb-83f6-ab27a39c959e",
   "metadata": {},
   "outputs": [
    {
     "name": "stdout",
     "output_type": "stream",
     "text": [
      "33114\n",
      "18055\n",
      "5290\n",
      "1448\n"
     ]
    }
   ],
   "source": [
    "up_df = filter_by_inter_num(up_df, 4)\n",
    "down_df = filter_by_inter_num(down_df, 4)"
   ]
  },
  {
   "cell_type": "code",
   "execution_count": 48,
   "id": "ac63c947-0b36-40dc-ae17-8b1c84f4fd6e",
   "metadata": {},
   "outputs": [
    {
     "data": {
      "text/plain": [
       "18055"
      ]
     },
     "execution_count": 48,
     "metadata": {},
     "output_type": "execute_result"
    }
   ],
   "source": [
    "up_df['user_id:token'].nunique()"
   ]
  },
  {
   "cell_type": "code",
   "execution_count": 49,
   "id": "549a785f-9179-4551-9f1b-e1b4957129ff",
   "metadata": {},
   "outputs": [
    {
     "data": {
      "text/plain": [
       "1448"
      ]
     },
     "execution_count": 49,
     "metadata": {},
     "output_type": "execute_result"
    }
   ],
   "source": [
    "down_df['user_id:token'].nunique()"
   ]
  },
  {
   "cell_type": "code",
   "execution_count": 50,
   "id": "c0d8db7a-ab13-4911-af6e-adfd10ee074a",
   "metadata": {},
   "outputs": [
    {
     "data": {
      "text/plain": [
       "0.0742449879505717"
      ]
     },
     "execution_count": 50,
     "metadata": {},
     "output_type": "execute_result"
    }
   ],
   "source": [
    "1448 / (1448 + 18055)"
   ]
  },
  {
   "cell_type": "code",
   "execution_count": 5,
   "id": "c13a6332-da6e-4da5-b417-1ba88959c765",
   "metadata": {},
   "outputs": [
    {
     "name": "stdout",
     "output_type": "stream",
     "text": [
      "33114 5290 0.8622539318820956\n",
      "18055 1448 0.9257550120494283\n"
     ]
    }
   ],
   "source": [
    "up_df, down_df = split_df(df, 10, split_time=1631289599)\n",
    "origin_up_user_num = up_df['user_id:token'].nunique()\n",
    "origin_down_user_num = down_df['user_id:token'].nunique()\n",
    "origin_user_num = origin_up_user_num + origin_down_user_num\n",
    "up_df = filter_by_inter_num(up_df, 4)\n",
    "down_df = filter_by_inter_num(down_df, 4)\n",
    "up_user_num = up_df['user_id:token'].nunique()\n",
    "down_user_num = down_df['user_id:token'].nunique()\n",
    "user_num = up_user_num + down_user_num\n",
    "print(origin_up_user_num, origin_down_user_num, origin_up_user_num * 1.0 / origin_user_num)\n",
    "print(up_user_num, down_user_num, up_user_num * 1.0 / user_num)"
   ]
  },
  {
   "cell_type": "code",
   "execution_count": 6,
   "id": "b425cb8d-b048-4dd9-969d-f5e6c74c00b7",
   "metadata": {},
   "outputs": [
    {
     "name": "stdout",
     "output_type": "stream",
     "text": [
      "15678 2874 0.8450840879689522\n",
      "9209 943 0.9071118991331757\n"
     ]
    }
   ],
   "source": [
    "up_df, down_df = split_df(df, 70, split_time=1631289599)\n",
    "origin_up_user_num = up_df['user_id:token'].nunique()\n",
    "origin_down_user_num = down_df['user_id:token'].nunique()\n",
    "origin_user_num = origin_up_user_num + origin_down_user_num\n",
    "up_df = filter_by_inter_num(up_df, 4)\n",
    "down_df = filter_by_inter_num(down_df, 4)\n",
    "up_user_num = up_df['user_id:token'].nunique()\n",
    "down_user_num = down_df['user_id:token'].nunique()\n",
    "user_num = up_user_num + down_user_num\n",
    "print(origin_up_user_num, origin_down_user_num, origin_up_user_num * 1.0 / origin_user_num)\n",
    "print(up_user_num, down_user_num, up_user_num * 1.0 / user_num)"
   ]
  },
  {
   "cell_type": "code",
   "execution_count": 7,
   "id": "da0e4ac1-0030-488f-b7f3-36f1bd2e7fd8",
   "metadata": {},
   "outputs": [
    {
     "name": "stdout",
     "output_type": "stream",
     "text": [
      "4385 679 0.865916271721959\n",
      "2518 189 0.9301810121906169\n"
     ]
    }
   ],
   "source": [
    "up_df, down_df = split_df(df, 361, split_time=1631289599)\n",
    "origin_up_user_num = up_df['user_id:token'].nunique()\n",
    "origin_down_user_num = down_df['user_id:token'].nunique()\n",
    "origin_user_num = origin_up_user_num + origin_down_user_num\n",
    "up_df = filter_by_inter_num(up_df, 4)\n",
    "down_df = filter_by_inter_num(down_df, 4)\n",
    "up_user_num = up_df['user_id:token'].nunique()\n",
    "down_user_num = down_df['user_id:token'].nunique()\n",
    "user_num = up_user_num + down_user_num\n",
    "print(origin_up_user_num, origin_down_user_num, origin_up_user_num * 1.0 / origin_user_num)\n",
    "print(up_user_num, down_user_num, up_user_num * 1.0 / user_num)"
   ]
  },
  {
   "cell_type": "code",
   "execution_count": 8,
   "id": "83d88ed5-c3ab-4f34-9655-beabefb5e767",
   "metadata": {},
   "outputs": [
    {
     "name": "stdout",
     "output_type": "stream",
     "text": [
      "5882 907 0.8664015318898217\n",
      "3427 267 0.9277206280454792\n"
     ]
    }
   ],
   "source": [
    "up_df, down_df = split_df(df, 65, split_time=1631289599)\n",
    "origin_up_user_num = up_df['user_id:token'].nunique()\n",
    "origin_down_user_num = down_df['user_id:token'].nunique()\n",
    "origin_user_num = origin_up_user_num + origin_down_user_num\n",
    "up_df = filter_by_inter_num(up_df, 4)\n",
    "down_df = filter_by_inter_num(down_df, 4)\n",
    "up_user_num = up_df['user_id:token'].nunique()\n",
    "down_user_num = down_df['user_id:token'].nunique()\n",
    "user_num = up_user_num + down_user_num\n",
    "print(origin_up_user_num, origin_down_user_num, origin_up_user_num * 1.0 / origin_user_num)\n",
    "print(up_user_num, down_user_num, up_user_num * 1.0 / user_num)"
   ]
  },
  {
   "cell_type": "code",
   "execution_count": 9,
   "id": "a8b38aa5-de9a-49c1-b77d-eb8b4110ab75",
   "metadata": {},
   "outputs": [
    {
     "name": "stdout",
     "output_type": "stream",
     "text": [
      "29880 4880 0.859608745684695\n",
      "18295 1341 0.9317070686494194\n"
     ]
    }
   ],
   "source": [
    "up_df, down_df = split_df(df, 20, split_time=1631289599)\n",
    "origin_up_user_num = up_df['user_id:token'].nunique()\n",
    "origin_down_user_num = down_df['user_id:token'].nunique()\n",
    "origin_user_num = origin_up_user_num + origin_down_user_num\n",
    "up_df = filter_by_inter_num(up_df, 4)\n",
    "down_df = filter_by_inter_num(down_df, 4)\n",
    "up_user_num = up_df['user_id:token'].nunique()\n",
    "down_user_num = down_df['user_id:token'].nunique()\n",
    "user_num = up_user_num + down_user_num\n",
    "print(origin_up_user_num, origin_down_user_num, origin_up_user_num * 1.0 / origin_user_num)\n",
    "print(up_user_num, down_user_num, up_user_num * 1.0 / user_num)"
   ]
  },
  {
   "cell_type": "code",
   "execution_count": 10,
   "id": "d49f04ee-ab37-4de8-a7b8-2d4f33a0e816",
   "metadata": {},
   "outputs": [
    {
     "name": "stdout",
     "output_type": "stream",
     "text": [
      "19410 3373 0.851951016108502\n",
      "10861 972 0.9178568410377758\n"
     ]
    }
   ],
   "source": [
    "up_df, down_df = split_df(df, 50, split_time=1631289599)\n",
    "origin_up_user_num = up_df['user_id:token'].nunique()\n",
    "origin_down_user_num = down_df['user_id:token'].nunique()\n",
    "origin_user_num = origin_up_user_num + origin_down_user_num\n",
    "up_df = filter_by_inter_num(up_df, 4)\n",
    "down_df = filter_by_inter_num(down_df, 4)\n",
    "up_user_num = up_df['user_id:token'].nunique()\n",
    "down_user_num = down_df['user_id:token'].nunique()\n",
    "user_num = up_user_num + down_user_num\n",
    "print(origin_up_user_num, origin_down_user_num, origin_up_user_num * 1.0 / origin_user_num)\n",
    "print(up_user_num, down_user_num, up_user_num * 1.0 / user_num)"
   ]
  },
  {
   "cell_type": "code",
   "execution_count": 11,
   "id": "b7c59c9b-dddb-4372-9d14-cffbe42b441d",
   "metadata": {},
   "outputs": [],
   "source": [
    "all_item = np.unique(df[df['cityid:token'] == 50]['item_id:token'].values)\n",
    "seen_item = np.unique(np.concatenate([up_df['item_id:token'].values, down_df['item_id:token'].values]))"
   ]
  },
  {
   "cell_type": "code",
   "execution_count": 12,
   "id": "001ca013-9b9b-45fb-aaa7-caa7e3b2f871",
   "metadata": {},
   "outputs": [
    {
     "data": {
      "text/plain": [
       "(50776, 60981, 0.8326527934930552)"
      ]
     },
     "execution_count": 12,
     "metadata": {},
     "output_type": "execute_result"
    }
   ],
   "source": [
    "len(seen_item), len(all_item), len(seen_item) / len(all_item)"
   ]
  },
  {
   "cell_type": "code",
   "execution_count": 13,
   "id": "8a3e1070-49e5-43fc-9c7a-72d722994339",
   "metadata": {},
   "outputs": [
    {
     "data": {
      "text/html": [
       "<div>\n",
       "<style scoped>\n",
       "    .dataframe tbody tr th:only-of-type {\n",
       "        vertical-align: middle;\n",
       "    }\n",
       "\n",
       "    .dataframe tbody tr th {\n",
       "        vertical-align: top;\n",
       "    }\n",
       "\n",
       "    .dataframe thead th {\n",
       "        text-align: right;\n",
       "    }\n",
       "</style>\n",
       "<table border=\"1\" class=\"dataframe\">\n",
       "  <thead>\n",
       "    <tr style=\"text-align: right;\">\n",
       "      <th></th>\n",
       "      <th>sessionid:token</th>\n",
       "      <th>cityid:token</th>\n",
       "      <th>user_id:token</th>\n",
       "      <th>item_id:token</th>\n",
       "      <th>item_type_recommend:token</th>\n",
       "      <th>exposure_time:float</th>\n",
       "      <th>inter_type:token</th>\n",
       "      <th>user_loc:float_seq</th>\n",
       "      <th>first_inter_time:float</th>\n",
       "    </tr>\n",
       "  </thead>\n",
       "  <tbody>\n",
       "    <tr>\n",
       "      <th>0</th>\n",
       "      <td>5c34b9ae-b03e-474d-bdbd-829af8852e8d1622297372...</td>\n",
       "      <td>50</td>\n",
       "      <td>113930990</td>\n",
       "      <td>666407514_DEAL_GROUP</td>\n",
       "      <td>DEAL_GROUP</td>\n",
       "      <td>1622217605</td>\n",
       "      <td>click</td>\n",
       "      <td>120.1791 30.2416</td>\n",
       "      <td>1622217605</td>\n",
       "    </tr>\n",
       "    <tr>\n",
       "      <th>1</th>\n",
       "      <td>5c34b9ae-b03e-474d-bdbd-829af8852e8d1622270237...</td>\n",
       "      <td>50</td>\n",
       "      <td>113930990</td>\n",
       "      <td>700334231_DEAL_GROUP</td>\n",
       "      <td>DEAL_GROUP</td>\n",
       "      <td>1622270523</td>\n",
       "      <td>click</td>\n",
       "      <td>120.1791 30.2416</td>\n",
       "      <td>1622217605</td>\n",
       "    </tr>\n",
       "    <tr>\n",
       "      <th>2</th>\n",
       "      <td>5c34b9ae-b03e-474d-bdbd-829af8852e8d1622300855...</td>\n",
       "      <td>50</td>\n",
       "      <td>113930990</td>\n",
       "      <td>666407514_DEAL_GROUP</td>\n",
       "      <td>DEAL_GROUP</td>\n",
       "      <td>1622301745</td>\n",
       "      <td>click</td>\n",
       "      <td>120.1791 30.2417</td>\n",
       "      <td>1622217605</td>\n",
       "    </tr>\n",
       "    <tr>\n",
       "      <th>3</th>\n",
       "      <td>5c34b9ae-b03e-474d-bdbd-829af8852e8d1622300855...</td>\n",
       "      <td>50</td>\n",
       "      <td>113930990</td>\n",
       "      <td>579809618_POI_WAIMAI</td>\n",
       "      <td>POI_WAIMAI</td>\n",
       "      <td>1622302284</td>\n",
       "      <td>click</td>\n",
       "      <td>120.1791 30.2417</td>\n",
       "      <td>1622217605</td>\n",
       "    </tr>\n",
       "    <tr>\n",
       "      <th>4</th>\n",
       "      <td>5c34b9ae-b03e-474d-bdbd-829af8852e8d1622386246...</td>\n",
       "      <td>50</td>\n",
       "      <td>113930990</td>\n",
       "      <td>666407514_DEAL_GROUP</td>\n",
       "      <td>DEAL_GROUP</td>\n",
       "      <td>1622305711</td>\n",
       "      <td>click</td>\n",
       "      <td>120.1791 30.2416</td>\n",
       "      <td>1622217605</td>\n",
       "    </tr>\n",
       "  </tbody>\n",
       "</table>\n",
       "</div>"
      ],
      "text/plain": [
       "                                     sessionid:token  cityid:token  \\\n",
       "0  5c34b9ae-b03e-474d-bdbd-829af8852e8d1622297372...            50   \n",
       "1  5c34b9ae-b03e-474d-bdbd-829af8852e8d1622270237...            50   \n",
       "2  5c34b9ae-b03e-474d-bdbd-829af8852e8d1622300855...            50   \n",
       "3  5c34b9ae-b03e-474d-bdbd-829af8852e8d1622300855...            50   \n",
       "4  5c34b9ae-b03e-474d-bdbd-829af8852e8d1622386246...            50   \n",
       "\n",
       "   user_id:token         item_id:token item_type_recommend:token  \\\n",
       "0      113930990  666407514_DEAL_GROUP                DEAL_GROUP   \n",
       "1      113930990  700334231_DEAL_GROUP                DEAL_GROUP   \n",
       "2      113930990  666407514_DEAL_GROUP                DEAL_GROUP   \n",
       "3      113930990  579809618_POI_WAIMAI                POI_WAIMAI   \n",
       "4      113930990  666407514_DEAL_GROUP                DEAL_GROUP   \n",
       "\n",
       "   exposure_time:float inter_type:token user_loc:float_seq  \\\n",
       "0           1622217605            click   120.1791 30.2416   \n",
       "1           1622270523            click   120.1791 30.2416   \n",
       "2           1622301745            click   120.1791 30.2417   \n",
       "3           1622302284            click   120.1791 30.2417   \n",
       "4           1622305711            click   120.1791 30.2416   \n",
       "\n",
       "   first_inter_time:float  \n",
       "0              1622217605  \n",
       "1              1622217605  \n",
       "2              1622217605  \n",
       "3              1622217605  \n",
       "4              1622217605  "
      ]
     },
     "execution_count": 13,
     "metadata": {},
     "output_type": "execute_result"
    }
   ],
   "source": [
    "up_df.head()"
   ]
  },
  {
   "cell_type": "code",
   "execution_count": null,
   "id": "d1a44b2f-4f7c-42b5-bb38-328e04ba7f9e",
   "metadata": {},
   "outputs": [],
   "source": []
  }
 ],
 "metadata": {
  "kernelspec": {
   "display_name": "Python 3",
   "language": "python",
   "name": "python3"
  },
  "language_info": {
   "codemirror_mode": {
    "name": "ipython",
    "version": 3
   },
   "file_extension": ".py",
   "mimetype": "text/x-python",
   "name": "python",
   "nbconvert_exporter": "python",
   "pygments_lexer": "ipython3",
   "version": "3.6.13"
  }
 },
 "nbformat": 4,
 "nbformat_minor": 5
}
