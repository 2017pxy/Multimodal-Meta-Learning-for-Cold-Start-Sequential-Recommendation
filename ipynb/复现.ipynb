{
 "cells": [
  {
   "cell_type": "code",
   "execution_count": 1,
   "id": "4e7a65c5-c90c-492b-8ac3-92e1936df65d",
   "metadata": {},
   "outputs": [],
   "source": [
    "import torch"
   ]
  },
  {
   "cell_type": "code",
   "execution_count": 2,
   "id": "e1d3401a-f62e-4412-ab12-d75466b94346",
   "metadata": {},
   "outputs": [
    {
     "name": "stdout",
     "output_type": "stream",
     "text": [
      "total 184G\n",
      "-rw-rw-r-- 1 sankuai sankuai 391M Dec 27 10:36 bert-base-chinese.pth\n",
      "-rw-rw-r-- 1 sankuai sankuai  31M Feb  2 13:52 changsha-cos-neighbour-item_img_emb.pth\n",
      "-rw-rw-r-- 1 sankuai sankuai  31M Jan 29 15:46 changsha-cos-neighbour-item_txt_emb.pth\n",
      "-rw-rw-r-- 1 sankuai sankuai  31M Feb  2 13:33 changsha-cos-neighbour.pth\n",
      "-rw-rw-r-- 1 sankuai sankuai  31M Feb  2 13:52 changsha-dot-neighbour-item_img_emb.pth\n",
      "-rw-rw-r-- 1 sankuai sankuai  31M Jan 29 15:30 changsha-dot-neighbour-item_txt_emb.pth\n",
      "-rw-rw-r-- 1 sankuai sankuai  31M Feb  2 13:33 changsha-dot-neighbour.pth\n",
      "-rw-rw-r-- 1 sankuai sankuai 436M Feb  2 13:33 changsha-item_emb.pth\n",
      "-rw-rw-r-- 1 sankuai sankuai 317M Jan 30 11:53 changsha-item_img_emb.pth\n",
      "-rw-rw-r-- 1 sankuai sankuai 119M Jan 30 11:52 changsha-item_txt_emb.pth\n",
      "-rw-rw-r-- 1 sankuai sankuai 123G Feb  7 01:42 changsha-meta-attention_data.pth\n",
      "-rw-rw-r-- 1 sankuai sankuai 5.8M Feb  7 01:43 changsha-meta-attention_module.pth\n",
      "-rw-rw-r-- 1 sankuai sankuai  39M Feb  2 13:52 hangzhou-cos-neighbour-item_img_emb.pth\n",
      "-rw-rw-r-- 1 sankuai sankuai  39M Jan 29 15:47 hangzhou-cos-neighbour-item_txt_emb.pth\n",
      "-rw-rw-r-- 1 sankuai sankuai  39M Feb  2 13:33 hangzhou-cos-neighbour.pth\n",
      "-rw-rw-r-- 1 sankuai sankuai  39M Feb  2 13:52 hangzhou-dot-neighbour-item_img_emb.pth\n",
      "-rw-rw-r-- 1 sankuai sankuai  39M Jan 29 15:37 hangzhou-dot-neighbour-item_txt_emb.pth\n",
      "-rw-rw-r-- 1 sankuai sankuai  39M Feb  2 13:33 hangzhou-dot-neighbour.pth\n",
      "-rw-rw-r-- 1 sankuai sankuai 546M Feb  2 13:33 hangzhou-item_emb.pth\n",
      "-rw-rw-r-- 1 sankuai sankuai 397M Jan 30 11:58 hangzhou-item_img_emb.pth\n",
      "-rw-rw-r-- 1 sankuai sankuai 149M Jan 30 11:56 hangzhou-item_txt_emb.pth\n",
      "-rw-r--r-- 1 sankuai sankuai  25G Jan 24 21:02 item_img_emb.pth\n",
      "-rw-rw-r-- 1 sankuai sankuai  10G Dec 27 12:06 item_txt_emb.pth\n",
      "-rw-rw-r-- 1 sankuai sankuai  10M Feb  2 13:51 lanzhou-cos-neighbour-item_img_emb.pth\n",
      "-rw-rw-r-- 1 sankuai sankuai  10M Jan 29 15:41 lanzhou-cos-neighbour-item_txt_emb.pth\n",
      "-rw-rw-r-- 1 sankuai sankuai  10M Feb  2 13:33 lanzhou-cos-neighbour.pth\n",
      "-rw-rw-r-- 1 sankuai sankuai  10M Feb  2 13:51 lanzhou-dot-neighbour-item_img_emb.pth\n",
      "-rw-rw-r-- 1 sankuai sankuai  10M Jan 29 15:28 lanzhou-dot-neighbour-item_txt_emb.pth\n",
      "-rw-rw-r-- 1 sankuai sankuai  10M Feb  2 13:33 lanzhou-dot-neighbour.pth\n",
      "-rw-rw-r-- 1 sankuai sankuai 141M Feb  2 13:33 lanzhou-item_emb.pth\n",
      "-rw-rw-r-- 1 sankuai sankuai 103M Jan 30 11:48 lanzhou-item_img_emb.pth\n",
      "-rw-rw-r-- 1 sankuai sankuai  39M Jan 30 11:46 lanzhou-item_txt_emb.pth\n",
      "-rw-rw-r-- 1 sankuai sankuai  11G Feb  6 02:11 lanzhou-meta-attention_data.pth\n",
      "-rw-rw-r-- 1 sankuai sankuai 5.1M Feb  6 02:11 lanzhou-meta-attention_module.pth\n",
      "-rw-rw-r-- 1 sankuai sankuai  11G Feb  6 01:53 lanzhou-trans-attention_data.pth\n",
      "-rw-rw-r-- 1 sankuai sankuai 5.1M Feb  6 01:53 lanzhou-trans-attention_module.pth\n",
      "lrwxrwxrwx 1 sankuai sankuai   64 Dec 24 15:19 meta-train-bj.pth -> /home/sankuai/recbole/saved/SASRec-meta-Dec-21-2021_09-43-25.pth\n",
      "lrwxrwxrwx 1 sankuai sankuai   64 Dec 24 15:19 meta-train-sh.pth -> /home/sankuai/recbole/saved/SASRec-meta-Dec-21-2021_09-42-55.pth\n",
      "lrwxrwxrwx 1 sankuai sankuai   59 Dec 20 20:21 SASRec-bj.pth -> /home/sankuai/recbole/saved/SASRec-Dec-14-2021_17-44-10.pth\n",
      "lrwxrwxrwx 1 sankuai sankuai   60 Dec 20 20:22 SASRec-bj-txt_emb.pth -> /home/sankuai/recbole/saved/SASRecF-Dec-18-2021_00-13-34.pth\n",
      "lrwxrwxrwx 1 sankuai sankuai   59 Dec 20 20:10 SASRec-sh.pth -> /home/sankuai/recbole/saved/SASRec-Dec-14-2021_17-45-02.pth\n",
      "lrwxrwxrwx 1 sankuai sankuai   60 Dec 20 20:11 SASRec-sh-txt_emb.pth -> /home/sankuai/recbole/saved/SASRecF-Dec-18-2021_00-13-26.pth\n",
      "-rw-rw-r-- 1 sankuai sankuai  63M Feb  2 13:52 shanghai-cos-neighbour-item_img_emb.pth\n",
      "-rw-rw-r-- 1 sankuai sankuai  63M Jan 29 15:48 shanghai-cos-neighbour-item_txt_emb.pth\n",
      "-rw-rw-r-- 1 sankuai sankuai  63M Feb  2 13:33 shanghai-cos-neighbour.pth\n",
      "-rw-rw-r-- 1 sankuai sankuai  63M Feb  2 13:52 shanghai-dot-neighbour-item_img_emb.pth\n",
      "-rw-rw-r-- 1 sankuai sankuai  63M Jan 29 15:39 shanghai-dot-neighbour-item_txt_emb.pth\n",
      "-rw-rw-r-- 1 sankuai sankuai  63M Feb  2 13:33 shanghai-dot-neighbour.pth\n",
      "-rw-rw-r-- 1 sankuai sankuai 879M Feb  2 13:33 shanghai-item_emb.pth\n",
      "-rw-rw-r-- 1 sankuai sankuai 639M Jan 30 12:03 shanghai-item_img_emb.pth\n",
      "-rw-rw-r-- 1 sankuai sankuai 240M Jan 30 12:01 shanghai-item_txt_emb.pth\n",
      "-rw-rw-r-- 1 sankuai sankuai 264K Dec 27 10:36 tokenizer.pth\n",
      "-rw-rw-r-- 1 sankuai sankuai  241 Dec 27 11:15 txt_dict.pth\n"
     ]
    }
   ],
   "source": [
    "!ls -lh pth"
   ]
  },
  {
   "cell_type": "code",
   "execution_count": 5,
   "id": "c2812cbe-0ef1-4dd1-b345-efecbc17e88c",
   "metadata": {},
   "outputs": [
    {
     "name": "stdout",
     "output_type": "stream",
     "text": [
      "CPU times: user 1 µs, sys: 1 µs, total: 2 µs\n",
      "Wall time: 3.34 µs\n"
     ]
    }
   ],
   "source": [
    "%time\n",
    "a = torch.load('pth/shanghai-item_emb.pth')"
   ]
  },
  {
   "cell_type": "code",
   "execution_count": 6,
   "id": "f53b4fcf-04a6-43b4-9375-37f805984554",
   "metadata": {},
   "outputs": [
    {
     "name": "stdout",
     "output_type": "stream",
     "text": [
      "CPU times: user 2 µs, sys: 0 ns, total: 2 µs\n",
      "Wall time: 3.58 µs\n"
     ]
    }
   ],
   "source": [
    "%time\n",
    "b = torch.load('pth/item_img_emb.pth')"
   ]
  },
  {
   "cell_type": "code",
   "execution_count": 7,
   "id": "408adb50-91fe-4b33-a5fe-0c74d1d80a35",
   "metadata": {},
   "outputs": [
    {
     "data": {
      "text/plain": [
       "dict_keys(['item_id', 'embs'])"
      ]
     },
     "execution_count": 7,
     "metadata": {},
     "output_type": "execute_result"
    }
   ],
   "source": [
    "b.keys()"
   ]
  },
  {
   "cell_type": "code",
   "execution_count": null,
   "id": "46f55489-281e-481d-a7ce-aea234d017ad",
   "metadata": {},
   "outputs": [],
   "source": []
  }
 ],
 "metadata": {
  "kernelspec": {
   "display_name": "Python 3",
   "language": "python",
   "name": "python3"
  },
  "language_info": {
   "codemirror_mode": {
    "name": "ipython",
    "version": 3
   },
   "file_extension": ".py",
   "mimetype": "text/x-python",
   "name": "python",
   "nbconvert_exporter": "python",
   "pygments_lexer": "ipython3",
   "version": "3.6.13"
  }
 },
 "nbformat": 4,
 "nbformat_minor": 5
}
